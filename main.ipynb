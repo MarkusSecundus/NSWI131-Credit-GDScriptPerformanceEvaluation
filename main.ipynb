{
 "cells": [
  {
   "cell_type": "markdown",
   "id": "e3f876cf",
   "metadata": {},
   "source": [
    "## GDScript - performance characteristics evaluation\n",
    "\n"
   ]
  },
  {
   "cell_type": "code",
   "execution_count": 22,
   "id": "04b4c5a1",
   "metadata": {},
   "outputs": [],
   "source": [
    "import numpy as np\n",
    "from matplotlib import pyplot as plt\n",
    "from collections import defaultdict\n",
    "from dataclasses import dataclass\n",
    "\n",
    "ArithmeticBenchmarks = \"ArithmeticBenchmarks\"\n",
    "IterationBenchmarks = \"IterationBenchmarks\"\n",
    "FunctioncallBenchmarks = \"FunctioncallBenchmarks\"\n",
    "DatastructBenchmarksLoad = \"DatastructBenchmarksLoad\"\n",
    "DatastructBenchmarksStore = \"DatastructBenchmarksStore\"\n",
    "DatastructBenchmarksCreation = \"DatastructBenchmarksCreation\"\n",
    "ConversionBenchmarks = \"ConversionBenchmarks\"\n",
    "\n",
    "\n",
    "@dataclass\n",
    "class Measurement:\n",
    "\tusec : float\n",
    "\tallocs : float\n",
    "\tfrees : float\n",
    "\treallocs : float\n",
    "\talloc_bytes : float\n",
    "\tfree_bytes : float\n",
    "\n",
    "\tis_memory_leak: bool\n",
    "\n",
    "\n",
    "def load_measurements(path: str)->defaultdict:\n",
    "\tret = defaultdict(lambda: defaultdict(list))\n",
    "\twith open(path, \"r\") as f:\n",
    "\t\tfor line_it in f:\n",
    "\t\t\tline :str = line_it\n",
    "\t\t\tfields = line.split(\";\")\n",
    "\t\t\tbench_section: str \t= fields[0]\n",
    "\t\t\tbench_name: str \t= fields[1]\n",
    "\t\t\tbench_param: str \t= fields[2]\n",
    "\t\t\tmeasured_usec_total = int(fields[3])\n",
    "\t\t\trepetitions_count\t= int(fields[4])\n",
    "\t\t\talloc_count_total\t= int(fields[5])\n",
    "\t\t\talloc_bytes_total\t= int(fields[6])\n",
    "\t\t\tfree_count_total\t= int(fields[7])\n",
    "\t\t\tfree_bytes_total\t= int(fields[8])\n",
    "\t\t\treallocs_count_total= int(fields[9])\n",
    "\t\t\tbench_run : list = ret[bench_section][bench_name]\n",
    "\t\t\tbench_run.append(Measurement(\n",
    "\t\t\t\tmeasured_usec_total / repetitions_count,\n",
    "\t\t\t\talloc_count_total / repetitions_count,\n",
    "\t\t\t\tfree_count_total / repetitions_count,\n",
    "\t\t\t\treallocs_count_total / repetitions_count,\n",
    "\t\t\t\talloc_bytes_total / repetitions_count,\n",
    "\t\t\t\tfree_bytes_total / repetitions_count,\n",
    "\t\t\t\t(alloc_count_total != free_count_total)\n",
    "\t\t\t))\n",
    "\n",
    "\treturn ret\n",
    "\n",
    "\n"
   ]
  },
  {
   "cell_type": "code",
   "execution_count": 23,
   "id": "c447731b",
   "metadata": {},
   "outputs": [],
   "source": [
    "measurements_basic = load_measurements(\"./measurements/out1.csv\")"
   ]
  },
  {
   "cell_type": "code",
   "execution_count": 24,
   "id": "9de27f60",
   "metadata": {},
   "outputs": [],
   "source": [
    "measurements_bigwarmup = load_measurements(\"./measurements/out2-big_warmup.csv\")"
   ]
  },
  {
   "cell_type": "code",
   "execution_count": 25,
   "id": "4e968643",
   "metadata": {},
   "outputs": [],
   "source": [
    "measurements_backwards = load_measurements(\"./measurements/out3-backwards.csv\")"
   ]
  },
  {
   "cell_type": "code",
   "execution_count": 26,
   "id": "63ccc898",
   "metadata": {},
   "outputs": [],
   "source": [
    "measurements_big = load_measurements(\"./measurements/out4-big60.csv\")"
   ]
  },
  {
   "cell_type": "code",
   "execution_count": null,
   "id": "77a42d65",
   "metadata": {},
   "outputs": [],
   "source": []
  }
 ],
 "metadata": {
  "kernelspec": {
   "display_name": "Python 3",
   "language": "python",
   "name": "python3"
  },
  "language_info": {
   "codemirror_mode": {
    "name": "ipython",
    "version": 3
   },
   "file_extension": ".py",
   "mimetype": "text/x-python",
   "name": "python",
   "nbconvert_exporter": "python",
   "pygments_lexer": "ipython3",
   "version": "3.13.2"
  }
 },
 "nbformat": 4,
 "nbformat_minor": 5
}
