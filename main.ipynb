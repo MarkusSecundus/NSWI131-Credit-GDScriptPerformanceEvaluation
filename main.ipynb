{
 "cells": [
  {
   "cell_type": "markdown",
   "id": "e3f876cf",
   "metadata": {},
   "source": [
    "## GDScript - explorace výkonových charakteristik\n",
    "\n",
    "#### GDScript - představení\n",
    "\n",
    "GDScript je skriptovací jazyk integrovaný v opensource herním enginu Godot.  \n",
    "\n",
    "Ačkoliv je možné ho v určitém smyslu považovat za jazyk relativně exotický, s nulovou uživatelskou základnou mimo Godot, pro uživatele Godotu bývá často z mnoha důvodů první volbou pro programování herní logiky. Jmenovitě proto, že funguje out-of-the-box na všech platformách, které Godot podporuje (narozdíl např. od C#, který je ošemetný na mobilních platformách), má poměrně použitelný editor a debugger integrovaný přímo do UI enginu, a mnoho specifických Godotích fíčur (např. signály, strom herní scény, singletony) je v něm podporováno velmi ergonomicky skrz dedikované jazykové konstrukty.\n",
    "\n",
    "Nejde o jazyk designovaný pro dosažení co nejvyššího runtime výkonu, mnohem prioritnější je schopnost rychlé iterace a experimentování nad herní logikou ( -> pokud možno schopnost hotreload, nulové čekání na kompilaci, graduální typování), stručnost implementace jazyka, a přístupnost i pro nezkušené programátory. Nicméně, jedním výkonovým problémem, proti kterému se GDScript odhodlal vymezit, jsou, pro hry velmi palčivé, příležitostné propady framerate v důsledku běhu GC. Na rozdíl od většiny typických skriptovacích jazyků (Python, Lua apod.) zde nalezneme bohatý výběr užitečných \"primitivních\" datových typů schopných alokace na stacku a plnohodnotný GC byl zcela zrušen výměnou za (uživateli explicitně komunikovaný) reference counting. Všeobecně je uživatel designem jazyka nenápadně popostrkován, aby si vystačil co nejvíce pouze s primitivními typy a Nody herní scény (ty mají explicitní lifetime) a na reference counting musel spoléhat zřídka.   \n",
    "\n",
    "Vcelku by se dalo říci, že jde o jazyk kdesi na pomezí mezi general-purpose a DSL.   \n",
    "\n",
    "Z hlediska organizace zdrojového kódu, veškerá implementace GDSkriptího interpreteru, editoru, debuggeru apod. je jedním z mnoha podmodulů herního enginu, její zdrojový kód lze přečíst [zde](https://github.com/godotengine/godot/tree/master/modules/gdscript).    \n",
    "\n",
    "Implementací jde o poměrně přímočarý bytecode interpreter, který se nepokouší o mnoho optimalizací.\n",
    "\n",
    "Jazyk je spolu s celým enginem aktivně vyvíjen, celý tento text se vztahuje pouze na implementaci přítomnou v Godotu 4.4 (v době psaní nejnovější stabilní verze).  \n",
    "\n",
    "#### Cíl experimentu\n",
    "\n",
    "Vzhledem k tomu, že je GDScript poměrně niche jazyk používaný pouze ve velmi specifické sociální bublině, není toho o výkonu jeho implementace všeobecně mnoho známo.   \n",
    "\n",
    "Tento experiment se nepokouší o srovnání výkonu GDScriptu s jinými v Godotu zprovoznitelnými skriptovacími jazyky.   \n",
    "Vycházíme ze situace, kdy je již (z mnoha dobrých důvodů zmíněných výše) uživatel rozhodnut, že GDScript použije, a pokládá si otázku, jak svou logiku psát, aby se zbytečně neokrádal o výkon, popř. jaké (i třeba strukturu kódu zhoršující) poučky lze vytáhnout z rukávu, optimalizujeme-li na dřeň nějakou kritickou smyčku. V případě, že objevíme situaci, kde nejvýkonější postup je nevalně kompatibilní s dobrou štábní kulturou, zajímá nás jak velkou cenu platíme za čistý kód.     \n",
    "\n",
    "S trochou štěstí v implementaci GDScriptu odhalíme nějaké výkonové deficity, které jsou snadno napravitelné bez nutnosti celou logiku interpreteru od základu překopat a mohou později být proměněny v pull-request.   \n",
    "\n",
    "Postupovat budeme tak, že v GDScriptu napíšeme sérii mikrobenchmarků - pro běžné každodenní operace (jako např. control flow, čtení/zápis z proměnné/property, práce s datovými strukturami) představíme různé metody jak je provádět, které GDScript nabízí, a vzájemně porovnáme kolik času zabere jejich běh a kolik příp. alokují paměti. Obdobně vytvoříme mikrobenchmarky pro otestování, zda a za jakých okolností GDScript provádí některé obvyklé triviální optimalizace (constant-folding, eliminace kódu bez sideefektů apod.). \n",
    "\n",
    "Naměřená data následně porovnáme s intuitivními očekáváními a nesrovnalosti se pokusíme prozkoumat více do hloubky a vysvětlit, např. prohlížením vygenerovaného bytekódu, prokrokováním vnitřností interpreteru v debuggeru, popř. do překladače nebo interpreteru připíšeme drobné kousky kódu navíc, jako méně systematický ekvivalent instrumentace.   \n",
    "Celkově náš úkol do jisté míry využijeme jako příležitost, abychom se seznámili s Godotí codebase.    \n",
    "\n",
    "\n",
    "High-level shrnutí našich předběžných očekávání ohledně výkonu GDScriptu:\n",
    " - nejlepší výkon při použití jako \"lepidlo\" mezi nativními funkcemi\n",
    " -  ̶d̶y̶n̶a̶m̶i̶c̶k̶ý̶ ̶v̶s̶ ̶t̶y̶p̶o̶v̶a̶n̶ý̶ ̶k̶ó̶d̶ ̶b̶u̶d̶e̶ ̶s̶t̶e̶j̶n̶ě̶ ̶p̶o̶m̶a̶l̶ý̶,̶ ̶t̶y̶p̶y̶ ̶s̶l̶o̶u̶ž̶í̶ ̶p̶o̶u̶z̶e̶ ̶k̶ ̶p̶r̶o̶g̶r̶a̶m̶á̶t̶o̶r̶s̶k̶é̶m̶u̶ ̶p̶o̶h̶o̶d̶l̶í (odvoláno po zběžném nahlédnutí na [seznam opcodů](https://github.com/godotengine/godot/blob/3c7f9b937214068bc892be0d2bd9a8a7026edae1/modules/gdscript/gdscript_function.h#L331))\n",
    " - čím silněji typovaný kód, tím rychlejší (největší rozdíl pokud operuje nad primitivními typy)\n",
    " - pokud se držíme standardně uznávaných zásad čistého OOP kódu, neměl by se náš výkon diametrálně odchýlit od optima\n",
    "\n",
    "#### Testovací sestava\n",
    "\n",
    "Veškerá naměřená data byla pořízena na stolním PC:\n",
    " - CPU: Intel Core Ultra 7 265K, stock nastavení, chlazený vzduchem vždy pod 80°C\n",
    " - RAM: 2x16GB DDR5 6000MHz\n",
    " - OS: Windows 11 Pro 24H2\n",
    " - Godot: verze odpovídající obsahu branche `4.4` ke dni 27.8.2025, manuálně pořízený release build s vlastními úpravami (popsány dále)\n",
    "\n",
    "#### Jak benchmarkovat GDScript\n",
    "\n",
    "Forma mikrobenchmarků si v průběhu experimentu prošla několika iteracemi, zde popíšeme finální verzi ke které jsme došli:   \n",
    "\n",
    "Každý microbenchmark je definován třídou dědící z `IBenchmark`. Implementuje funkce: \n",
    " - `run_benchmark(repetitions_count: int, param_opt)->int`...\n",
    "\t- sama zodpovědná za pořízení timestampu na začátku a na konci, a za to, aby se payload provedl `repetitions_count`-krát\n",
    "\t- vrací čas v mikrosekundách, který zabralo provedení payloadu `repetitions_count`-krát (nejjemnější časovač, který Godot nabízí, je `Time.get_ticks_usec()` - [viz](https://gitlab.mff.cuni.cz/teaching/nswi131/2025/student-HRONIKJ/-/blob/master/task-01/01-timers/SOLUTION.ipynb?ref_type=heads) )\n",
    "\t- důvod: jak zjistíme, GDScript neprovádí inlinování funkcí ani v triviálních případech a volání funkce má overhead často několikanásobně větší než jedna instance našeho payloadu; rovněž se zde nekoná žádné inkrementální optimalizování funkcí na základě toho kolikrát byly volány  \n",
    "\t- v jiných jazycích typické akumulování dummy mezivýsledku, který pak vracíme z funkce, aby se zabránilo odoptimalizování payloadu pryč, zde není třeba - jak zjistíme, GDScript je schopen odoptimalizovávat kód pryč pouze ve velmi specifickém případě výrazů, které se plně zconstant-foldují\n",
    "\t\t- v některých microbenchmarcích budeme akumulaci mezivýsledků stále vykonávat, abychom zasadili použití payloadu do minimálního kontextu ve kterém dává smysl (např. sčítání dvou čísel nedává v praxi smysl pokud výsledek zahodíme a nikam ho neuložíme)\n",
    "\t- typický tvar funkce:\n",
    "\t\t```py\n",
    "\t\tfunc run_benchmark(repetitions: int, _param: Variant)->int:\n",
    "\t\t\tvar param : some_type = _param  # optional \n",
    "\t\t\tvar start_time :int = Time.get_ticks_usec()\n",
    "\t\t\tfor repetition in repetitions: # fastest way to iterate over <0;repetitions), no dynamic allocation\n",
    "\t\t\t\t# payload\n",
    "\t\t\treturn Time.get_ticks_usec() - start_time\n",
    "\t\t```\n",
    " - `get_params()->Array` (volitelně)... \n",
    "\t- vrací pole hodnot, benchmark se vykoná pro každou z hodnot\n",
    "\t- _jak později zjistíme, interakce s typovanou lokální proměnnou je zhruba stejně rychlá jako s konstantou_\n",
    " -  ve všech případech, kdy jsme k benchmarku potřebovali vykonávat přípravnou práci (alokace pomocných objektů nad kterými budeme operovat apod.), jsme si vystačili s konstruktorem, žádné metody `prepare()`, `cleanup()` apod. nebyly třeba\n",
    "\n",
    "Benchmarkovací framework\n",
    " - iteruje přes všechny benchmarky, pro každý benchmark:\n",
    "\t- pokud benchmark definuje `get_params()`, iteruje přes všechny parametry\n",
    "\t- nejprve zavolá `run_benchmark()` jednou na warmup\n",
    "\t- pak ho zavolá znovu už doopravdy, tentokrát se zapnutým trackováním dynamických alokací (viz dále)\n",
    "\t- **počet repeticí:** `10_000` pro warmup, `50_000` pro hlavní běh\n",
    "\t- vypíše naměřené výsledky do konzole (human readable forma) a volitelně do výstupního .csv souboru\n",
    "\n",
    "\n",
    "\n"
   ]
  },
  {
   "cell_type": "code",
   "execution_count": 41,
   "id": "04b4c5a1",
   "metadata": {},
   "outputs": [],
   "source": [
    "import numpy as np\n",
    "from matplotlib import pyplot as plt\n",
    "from collections import defaultdict\n",
    "from dataclasses import dataclass\n",
    "\n",
    "ArithmeticBenchmarks = \"ArithmeticBenchmarks\"\n",
    "IterationBenchmarks = \"IterationBenchmarks\"\n",
    "FunctioncallBenchmarks = \"FunctioncallBenchmarks\"\n",
    "DatastructBenchmarksLoad = \"DatastructBenchmarksLoad\"\n",
    "DatastructBenchmarksStore = \"DatastructBenchmarksStore\"\n",
    "DatastructBenchmarksCreation = \"DatastructBenchmarksCreation\"\n",
    "ConversionBenchmarks = \"ConversionBenchmarks\"\n",
    "\n",
    "\n",
    "@dataclass\n",
    "class Measurement:\n",
    "\tusec : float\n",
    "\tallocs : float\n",
    "\tfrees : float\n",
    "\treallocs : float\n",
    "\talloc_bytes : float\n",
    "\tfree_bytes : float\n",
    "\n",
    "\tis_memory_leak: bool\n",
    "\n",
    "def all_usecs(measurements: list[Measurement])->list[float]: return [x.usec for x in measurements]\n",
    "def all_allocs(measurements: list[Measurement])->list[float]: return [x.allocs for x in measurements]\n",
    "def all_frees(measurements: list[Measurement])->list[float]: return [x.frees for x in measurements]\n",
    "def all_reallocs(measurements: list[Measurement])->list[float]: return [x.reallocs for x in measurements]\n",
    "def all_alloc_bytes(measurements: list[Measurement])->list[float]: return [x.alloc_bytes for x in measurements]\n",
    "def all_free_bytes(measurements: list[Measurement])->list[float]: return [x.free_bytes for x in measurements]\n",
    "def all_is_memory_leak(measurements: list[Measurement])->list[bool]: return [x.is_memory_leak for x in measurements]\n",
    "\n",
    "\n",
    "def load_measurements(path: str)->defaultdict:\n",
    "\tret = defaultdict(lambda: defaultdict(list))\n",
    "\twith open(path, \"r\") as f:\n",
    "\t\tfor line_it in f:\n",
    "\t\t\tline :str = line_it\n",
    "\t\t\tfields = line.split(\";\")\n",
    "\t\t\tbench_section: str \t= fields[0]\n",
    "\t\t\tbench_name: str \t= fields[1]\n",
    "\t\t\tbench_param: str \t= fields[2]\n",
    "\t\t\tmeasured_usec_total = int(fields[3])\n",
    "\t\t\trepetitions_count\t= int(fields[4])\n",
    "\t\t\talloc_count_total\t= int(fields[5])\n",
    "\t\t\talloc_bytes_total\t= int(fields[6])\n",
    "\t\t\tfree_count_total\t= int(fields[7])\n",
    "\t\t\tfree_bytes_total\t= int(fields[8])\n",
    "\t\t\treallocs_count_total= int(fields[9])\n",
    "\t\t\tbench_run : list = ret[bench_section][bench_name]\n",
    "\t\t\tbench_run.append(Measurement(\n",
    "\t\t\t\tmeasured_usec_total / repetitions_count,\n",
    "\t\t\t\talloc_count_total / repetitions_count,\n",
    "\t\t\t\tfree_count_total / repetitions_count,\n",
    "\t\t\t\treallocs_count_total / repetitions_count,\n",
    "\t\t\t\talloc_bytes_total / repetitions_count,\n",
    "\t\t\t\tfree_bytes_total / repetitions_count,\n",
    "\t\t\t\t(alloc_count_total != free_count_total)\n",
    "\t\t\t))\n",
    "\n",
    "\treturn ret\n",
    "\n",
    "def concat_measurements(a: defaultdict, b: defaultdict)->defaultdict:\n",
    "\tret = defaultdict(lambda: defaultdict(list))\n",
    "\tfor section_name in a.keys():\n",
    "\t\tsection_a: defaultdict = a[section_name]\n",
    "\t\tfor bench_name in section_a.keys():\n",
    "\t\t\tbench_a = section_a[bench_name]\n",
    "\t\t\tbench_b = b[section_name][bench_name]\n",
    "\t\t\tret[section_name][bench_name] =  bench_a + bench_b\n",
    "\treturn ret\n",
    "\n"
   ]
  },
  {
   "cell_type": "code",
   "execution_count": 42,
   "id": "c447731b",
   "metadata": {},
   "outputs": [],
   "source": [
    "measurements_basic = load_measurements(\"./measurements/out1.csv\")"
   ]
  },
  {
   "cell_type": "code",
   "execution_count": 43,
   "id": "9de27f60",
   "metadata": {},
   "outputs": [],
   "source": [
    "measurements_bigwarmup = load_measurements(\"./measurements/out2-big_warmup.csv\")"
   ]
  },
  {
   "cell_type": "code",
   "execution_count": 44,
   "id": "4e968643",
   "metadata": {},
   "outputs": [],
   "source": [
    "measurements_backwards = load_measurements(\"./measurements/out3-backwards.csv\")"
   ]
  },
  {
   "cell_type": "code",
   "execution_count": 45,
   "id": "63ccc898",
   "metadata": {},
   "outputs": [],
   "source": [
    "measurements_big = load_measurements(\"./measurements/out4-big60.csv\")"
   ]
  },
  {
   "cell_type": "code",
   "execution_count": 46,
   "id": "77a42d65",
   "metadata": {},
   "outputs": [],
   "source": [
    "all_measurements = concat_measurements(concat_measurements(concat_measurements(measurements_basic, measurements_bigwarmup), measurements_backwards), measurements_big)"
   ]
  },
  {
   "cell_type": "code",
   "execution_count": 47,
   "id": "065a2102",
   "metadata": {},
   "outputs": [
    {
     "data": {
      "text/plain": [
       "120"
      ]
     },
     "execution_count": 47,
     "metadata": {},
     "output_type": "execute_result"
    }
   ],
   "source": [
    "len(all_measurements[ArithmeticBenchmarks][\"AddLiteral\"])"
   ]
  }
 ],
 "metadata": {
  "kernelspec": {
   "display_name": "Python 3",
   "language": "python",
   "name": "python3"
  },
  "language_info": {
   "codemirror_mode": {
    "name": "ipython",
    "version": 3
   },
   "file_extension": ".py",
   "mimetype": "text/x-python",
   "name": "python",
   "nbconvert_exporter": "python",
   "pygments_lexer": "ipython3",
   "version": "3.13.2"
  }
 },
 "nbformat": 4,
 "nbformat_minor": 5
}
