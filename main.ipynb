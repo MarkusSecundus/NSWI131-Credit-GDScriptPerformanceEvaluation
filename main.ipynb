{
 "cells": [
  {
   "cell_type": "markdown",
   "id": "e3f876cf",
   "metadata": {},
   "source": [
    "## GDScript - explorace výkonových charakteristik\n",
    "\n",
    "#### GDScript - představení\n",
    "\n",
    "GDScript je skriptovací jazyk integrovaný v opensource herním enginu Godot.  \n",
    "\n",
    "Ačkoliv je možné ho v určitém smyslu považovat za jazyk relativně exotický, s nulovou uživatelskou základnou mimo Godot, pro uživatele Godotu bývá často z mnoha důvodů první volbou pro programování herní logiky. Jmenovitě proto, že funguje out-of-the-box na všech platformách, které Godot podporuje (narozdíl např. od C#, který je ošemetný na mobilních platformách), má poměrně použitelný editor a debugger integrovaný přímo do UI enginu, a mnoho specifických Godotích fíčur (např. signály, strom herní scény, singletony) je v něm podporováno velmi ergonomicky skrz dedikované jazykové konstrukty.\n",
    "\n",
    "Nejde o jazyk designovaný pro dosažení co nejvyššího runtime výkonu, mnohem prioritnější je schopnost rychlé iterace a experimentování nad herní logikou ( -> pokud možno schopnost hotreload, nulové čekání na kompilaci, graduální typování), stručnost implementace jazyka, a přístupnost i pro nezkušené programátory. Nicméně, jedním výkonovým problémem, proti kterému se GDScript odhodlal vymezit, jsou, pro hry velmi palčivé, příležitostné propady framerate v důsledku běhu GC. Na rozdíl od většiny typických skriptovacích jazyků (Python, Lua apod.) zde nalezneme bohatý výběr užitečných \"primitivních\" datových typů schopných alokace na stacku a plnohodnotný GC byl zcela zrušen výměnou za (uživateli explicitně komunikovaný) reference counting. Všeobecně je uživatel designem jazyka nenápadně popostrkován, aby si vystačil co nejvíce pouze s primitivními typy a Nody herní scény (ty mají explicitní lifetime) a na reference counting musel spoléhat zřídka.   \n",
    "\n",
    "Vcelku by se dalo říci, že jde o jazyk kdesi na pomezí mezi general-purpose a DSL.   \n",
    "\n",
    "Z hlediska organizace zdrojového kódu, veškerá implementace GDSkriptího interpreteru, editoru, debuggeru apod. je jedním z mnoha podmodulů herního enginu, její zdrojový kód lze přečíst [zde](https://github.com/godotengine/godot/tree/master/modules/gdscript).    \n",
    "\n",
    "Implementací jde o poměrně přímočarý bytecode interpreter, který se nepokouší o mnoho optimalizací.\n",
    "\n",
    "Jazyk je spolu s celým enginem aktivně vyvíjen, celý tento text se vztahuje pouze na implementaci přítomnou v Godotu 4.4 (v době psaní nejnovější stabilní verze).  \n",
    "\n",
    "#### Cíl experimentu\n",
    "\n",
    "Vzhledem k tomu, že je GDScript poměrně niche jazyk používaný pouze ve velmi specifické sociální bublině, není toho o výkonu jeho implementace všeobecně mnoho známo.   \n",
    "\n",
    "Tento experiment se nepokouší o srovnání výkonu GDScriptu s jinými v Godotu zprovoznitelnými skriptovacími jazyky.   \n",
    "Vycházíme ze situace, kdy je již (z mnoha dobrých důvodů zmíněných výše) uživatel rozhodnut, že GDScript použije, a pokládá si otázku, jak svou logiku psát, aby se zbytečně neokrádal o výkon, popř. jaké (i třeba strukturu kódu zhoršující) poučky lze vytáhnout z rukávu, optimalizujeme-li na dřeň nějakou kritickou smyčku. V případě, že objevíme situaci, kde nejvýkonější postup je nevalně kompatibilní s dobrou štábní kulturou, zajímá nás jak velkou cenu platíme za čistý kód.     \n",
    "\n",
    "S trochou štěstí v implementaci GDScriptu odhalíme nějaké výkonové deficity, které jsou snadno napravitelné bez nutnosti celou logiku interpreteru od základu překopat a mohou později být proměněny v pull-request.   \n",
    "\n",
    "Postupovat budeme tak, že v GDScriptu napíšeme sérii mikrobenchmarků - pro běžné každodenní operace (jako např. control flow, čtení/zápis z proměnné/property, práce s datovými strukturami) představíme různé metody jak je provádět, které GDScript nabízí, a vzájemně porovnáme kolik času zabere jejich běh a kolik příp. alokují paměti. Obdobně vytvoříme mikrobenchmarky pro otestování, zda a za jakých okolností GDScript provádí některé obvyklé triviální optimalizace (constant-folding, eliminace kódu bez sideefektů apod.). \n",
    "\n",
    "Naměřená data následně porovnáme s intuitivními očekáváními a nesrovnalosti se pokusíme prozkoumat více do hloubky a vysvětlit, např. prohlížením vygenerovaného bytekódu, prokrokováním vnitřností interpreteru v debuggeru, popř. do překladače nebo interpreteru připíšeme drobné kousky kódu navíc, jako méně systematický ekvivalent instrumentace.   \n",
    "Celkově náš úkol do jisté míry využijeme jako příležitost, abychom se seznámili s Godotí codebase.    \n",
    "\n",
    "\n",
    "High-level shrnutí našich předběžných očekávání ohledně výkonu GDScriptu:\n",
    " - nejlepší výkon při použití jako \"lepidlo\" mezi nativními funkcemi\n",
    " -  ̶d̶y̶n̶a̶m̶i̶c̶k̶ý̶ ̶v̶s̶ ̶t̶y̶p̶o̶v̶a̶n̶ý̶ ̶k̶ó̶d̶ ̶b̶u̶d̶e̶ ̶s̶t̶e̶j̶n̶ě̶ ̶p̶o̶m̶a̶l̶ý̶,̶ ̶t̶y̶p̶y̶ ̶s̶l̶o̶u̶ž̶í̶ ̶p̶o̶u̶z̶e̶ ̶k̶ ̶p̶r̶o̶g̶r̶a̶m̶á̶t̶o̶r̶s̶k̶é̶m̶u̶ ̶p̶o̶h̶o̶d̶l̶í (odvoláno po zběžném nahlédnutí na [seznam opcodů](https://github.com/godotengine/godot/blob/3c7f9b937214068bc892be0d2bd9a8a7026edae1/modules/gdscript/gdscript_function.h#L331))\n",
    " - čím silněji typovaný kód, tím rychlejší (největší rozdíl pokud operuje nad primitivními typy)\n",
    " - pokud se držíme standardně uznávaných zásad čistého OOP kódu, neměl by se náš výkon diametrálně odchýlit od optima\n",
    "\n",
    "#### Testovací sestava\n",
    "\n",
    "Veškerá naměřená data byla pořízena na stolním PC:\n",
    " - CPU: Intel Core Ultra 7 265K, stock nastavení, chlazený vzduchem vždy pod 80°C\n",
    " - RAM: 2x16GB DDR5 6000MHz\n",
    " - OS: Windows 11 Pro 24H2\n",
    " - Godot: verze odpovídající obsahu branche `4.4` ke dni 27.8.2025, manuálně pořízený release build s vlastními úpravami (popsány dále)\n",
    " \t- zdrojový kód forku lze nalézt v branchi [godot-fork](https://github.com/MarkusSecundus/NSWI131-Credit-GDScriptPerformanceEvaluation/tree/godot-fork)\n",
    "\t- benchmarkovací projekt lze nalézt v branchi [benchmarks](https://github.com/MarkusSecundus/NSWI131-Credit-GDScriptPerformanceEvaluation/tree/benchmarks)\n",
    "\n",
    "#### Jak benchmarkovat GDScript\n",
    "\n",
    "Forma mikrobenchmarků si v průběhu experimentu prošla několika iteracemi, zde popíšeme finální verzi ke které jsme došli:   \n",
    "\n",
    "**Každý microbenchmark je definován třídou dědící z `IBenchmark`.**    \n",
    "Implementuje funkce: \n",
    " - `run_benchmark(repetitions_count: int, param_opt)->int`...\n",
    "\t- sama zodpovědná za pořízení timestampu na začátku a na konci, a za to, aby se payload provedl `repetitions_count`-krát\n",
    "\t- vrací čas v mikrosekundách, který zabralo provedení payloadu `repetitions_count`-krát (nejjemnější časovač, který Godot nabízí, je `Time.get_ticks_usec()` - [viz](https://gitlab.mff.cuni.cz/teaching/nswi131/2025/student-HRONIKJ/-/blob/master/task-01/01-timers/SOLUTION.ipynb?ref_type=heads) )\n",
    "\t- důvod: jak zjistíme, GDScript neprovádí inlinování funkcí ani v triviálních případech a volání funkce má overhead často několikanásobně větší než jedna instance našeho payloadu; rovněž se zde nekoná žádné inkrementální optimalizování funkcí na základě toho kolikrát byly volány  \n",
    "\t- v jiných jazycích typické akumulování dummy mezivýsledku, který pak vracíme z funkce, aby se zabránilo odoptimalizování payloadu pryč, zde není třeba - jak zjistíme, GDScript je schopen odoptimalizovávat kód pryč pouze ve velmi specifickém případě výrazů, které se plně zconstant-foldují\n",
    "\t\t- v některých microbenchmarcích budeme akumulaci mezivýsledků stále vykonávat, abychom zasadili použití payloadu do minimálního kontextu ve kterém dává smysl (např. sčítání dvou čísel nedává v praxi smysl pokud výsledek zahodíme a nikam ho neuložíme)\n",
    "\t- typický tvar funkce:\n",
    "\t\t```py\n",
    "\t\tfunc run_benchmark(repetitions: int, _param: Variant)->int:\n",
    "\t\t\tvar param : some_type = _param  # optional \n",
    "\t\t\tvar start_time :int = Time.get_ticks_usec()\n",
    "\t\t\tfor repetition in repetitions: # fastest way to iterate over <0;repetitions), no dynamic allocation\n",
    "\t\t\t\t# payload\n",
    "\t\t\treturn Time.get_ticks_usec() - start_time\n",
    "\t\t```\n",
    " - `get_params()->Array` (volitelně)... \n",
    "\t- vrací pole hodnot, benchmark se vykoná pro každou z hodnot\n",
    "\t- _jak později zjistíme, interakce s typovanou lokální proměnnou je zhruba stejně rychlá jako s konstantou_\n",
    " -  ve všech případech, kdy jsme k benchmarku potřebovali vykonávat přípravnou práci (alokace pomocných objektů nad kterými budeme operovat apod.), jsme si vystačili s konstruktorem, žádné metody `prepare()`, `cleanup()` apod. nebyly třeba\n",
    "\n",
    "**Benchmarkovací framework...**\n",
    " - iteruje přes všechny benchmarky, pro každý benchmark:\n",
    "\t- vytvoří instanci jeho třídy (zavolá konstruktor který příp. vykoná přípravné operace)\n",
    "\t- pokud benchmark definuje `get_params()`, iteruje přes všechny parametry\n",
    "\t- nejprve zavolá `run_benchmark()` jednou na warmup\n",
    "\t- pak ho zavolá znovu už doopravdy, tentokrát se zapnutým trackováním dynamických alokací (viz dále)\n",
    "\t- **počet repeticí:** `10_000` pro warmup, `50_000` pro hlavní běh\n",
    "\t- vypíše naměřené výsledky do konzole (human readable forma) a volitelně do výstupního .csv souboru\n",
    "\n",
    "\n",
    "**Provedená měření:**\n",
    " 1. všechny benchmarky zopakovány 20-krát\n",
    " 2. všechny benchmarky 20-krát, s warmupem `50_000`\n",
    " 2. všechny benchmarky 20-krát, v převráceném pořadí\n",
    " 3. všechny benchmarky 60-krát\n",
    "\n",
    "V další části budeme primárně pracovat s daty ze všech těchto 4 běhu konkatenovanými dohromady. Uvidíme, že mezi daty z různých běhů nejsou patrné větší rozdíly, z toho plyne, že:\n",
    " - `10_000` opakování je na warmup dostatečné\n",
    " - pořadí, ve kterém jsou benchmarky vykonávány, na jejich běh nemá vliv\n",
    " - Godot netrpí na memory leaky/fragmentaci haldy či podobné vlivy, které by jeho běh v průběhu času zpomalovaly\n",
    " - stejně tak nevykonává žádné profilovací optimalizace, které by v dlouhodobém horizontu zvyšovaly výkon programu čím déle běží"
   ]
  },
  {
   "cell_type": "code",
   "execution_count": null,
   "id": "04b4c5a1",
   "metadata": {},
   "outputs": [
    {
     "ename": "",
     "evalue": "",
     "output_type": "error",
     "traceback": [
      "\u001b[1;31mRunning cells with 'Python 3.13.7' requires the ipykernel package.\n",
      "\u001b[1;31m<a href='command:jupyter.createPythonEnvAndSelectController'>Create a Python Environment</a> with the required packages.\n",
      "\u001b[1;31mOr install 'ipykernel' using the command: 'c:/Users/MarkusSecundus/AppData/Local/Programs/Python/Python313/python.exe -m pip install ipykernel -U --user --force-reinstall'"
     ]
    }
   ],
   "source": [
    "# Define the format of measurements\n",
    "\n",
    "import numpy as np\n",
    "from matplotlib import pyplot as plt\n",
    "from collections import defaultdict\n",
    "from dataclasses import dataclass\n",
    "\n",
    "ArithmeticBenchmarks = \"ArithmeticBenchmarks\"\n",
    "IterationBenchmarks = \"IterationBenchmarks\"\n",
    "FunctioncallBenchmarks = \"FunctioncallBenchmarks\"\n",
    "DatastructBenchmarksLoad = \"DatastructBenchmarksLoad\"\n",
    "DatastructBenchmarksStore = \"DatastructBenchmarksStore\"\n",
    "DatastructBenchmarksCreation = \"DatastructBenchmarksCreation\"\n",
    "ConversionBenchmarks = \"ConversionBenchmarks\"\n",
    "\n",
    "\n",
    "@dataclass\n",
    "class Measurement:\n",
    "\tusec : float\n",
    "\tallocs : float\n",
    "\tfrees : float\n",
    "\treallocs : float\n",
    "\talloc_bytes : float\n",
    "\tfree_bytes : float\n",
    "\n",
    "\tis_memory_leak: bool\n",
    "\n",
    "def all_usecs(measurements: list[Measurement])->list[float]: return [x.usec for x in measurements]\n",
    "def all_allocs(measurements: list[Measurement])->list[float]: return [x.allocs for x in measurements]\n",
    "def all_frees(measurements: list[Measurement])->list[float]: return [x.frees for x in measurements]\n",
    "def all_reallocs(measurements: list[Measurement])->list[float]: return [x.reallocs for x in measurements]\n",
    "def all_alloc_bytes(measurements: list[Measurement])->list[float]: return [x.alloc_bytes for x in measurements]\n",
    "def all_free_bytes(measurements: list[Measurement])->list[float]: return [x.free_bytes for x in measurements]\n",
    "def all_is_memory_leak(measurements: list[Measurement])->list[bool]: return [x.is_memory_leak for x in measurements]\n",
    "\n",
    "\n",
    "def load_measurements(path: str)->defaultdict:\n",
    "\tret = defaultdict(dict)\n",
    "\twith open(path, \"r\") as f:\n",
    "\t\tfor line_it in f:\n",
    "\t\t\tline :str = line_it\n",
    "\t\t\tfields = line.split(\";\")\n",
    "\t\t\tbench_section: str \t= fields[0]\n",
    "\t\t\tbench_name: str \t= fields[1]\n",
    "\t\t\tbench_param: str \t= fields[2]\n",
    "\t\t\tmeasured_usec_total = int(fields[3])\n",
    "\t\t\trepetitions_count\t= int(fields[4])\n",
    "\t\t\talloc_count_total\t= int(fields[5])\n",
    "\t\t\talloc_bytes_total\t= int(fields[6])\n",
    "\t\t\tfree_count_total\t= int(fields[7])\n",
    "\t\t\tfree_bytes_total\t= int(fields[8])\n",
    "\t\t\treallocs_count_total= int(fields[9])\n",
    "\t\t\tif not bench_name in ret[bench_section]:\n",
    "\t\t\t\tret[bench_section][bench_name] = (defaultdict(list) if bench_param else list())\n",
    "\t\t\tbench_run = ret[bench_section][bench_name]\n",
    "\t\t\tif bench_param: bench_run = bench_run[bench_param]\n",
    "\t\t\tbench_run.append(Measurement(\n",
    "\t\t\t\tmeasured_usec_total / repetitions_count,\n",
    "\t\t\t\talloc_count_total / repetitions_count,\n",
    "\t\t\t\tfree_count_total / repetitions_count,\n",
    "\t\t\t\treallocs_count_total / repetitions_count,\n",
    "\t\t\t\talloc_bytes_total / repetitions_count,\n",
    "\t\t\t\tfree_bytes_total / repetitions_count,\n",
    "\t\t\t\t(alloc_count_total != free_count_total)\n",
    "\t\t\t))\n",
    "\n",
    "\treturn ret\n",
    "\n",
    "def concat_measurements(a: defaultdict, b: defaultdict)->defaultdict:\n",
    "\tret = defaultdict(dict)\n",
    "\tfor section_name in a.keys():\n",
    "\t\tsection_a: dict = a[section_name]\n",
    "\t\tfor bench_name in section_a.keys():\n",
    "\t\t\tbench_a = section_a[bench_name]\n",
    "\t\t\tbench_b = b[section_name][bench_name]\n",
    "\t\t\tif isinstance(bench_a, list):\n",
    "\t\t\t\tret[section_name][bench_name] =  bench_a + bench_b\n",
    "\t\t\telse:\n",
    "\t\t\t\tfor bench_param in bench_a.keys():\n",
    "\t\t\t\t\tparam_a = bench_a[bench_param]\n",
    "\t\t\t\t\tparam_b = bench_b[bench_param]\n",
    "\t\t\t\t\tif not bench_name in ret[section_name]: ret[section_name][bench_name] = {}\n",
    "\t\t\t\t\tret[section_name][bench_name][bench_param] = param_a + param_b\n",
    "\treturn ret\n",
    "\n",
    "def set_legend(legend):\n",
    "    l = plt.legend(legend)\n",
    "    for lh in l.legend_handles:\n",
    "        lh.set_alpha(1)\n",
    "\n",
    "def graph(d: dict, tests:list[str], selector, **kwargs):\n",
    "\tlegend = []\n",
    "\tdef pllt(values):\n",
    "\t\tplt.scatter(range(len(values)), values, **kwargs)\n",
    "\n",
    "\tfor test in tests:\n",
    "\t\tif isinstance(test, str):\n",
    "\t\t\tif isinstance(d[test], list):\n",
    "\t\t\t\tpllt(selector(d[test]))\n",
    "\t\t\t\tlegend.append(test)\n",
    "\t\t\telse:\n",
    "\t\t\t\tfor param in d[test].keys():\n",
    "\t\t\t\t\tpllt(selector(d[test][param]))\n",
    "\t\t\t\t\tlegend.append(\"%s[%s]\"%(test, param))\n",
    "\t\telse:\n",
    "\t\t\tpllt(selector(d[test[0]][test[1]]))\n",
    "\t\t\tlegend.append(\"%s[%s]\"%(test[0], test[1]))\n",
    "\n",
    "\t\n",
    "\tplt.ylabel(\"μsec\")\n",
    "\tplt.xlabel(\"run\")\n",
    "\tset_legend(legend)\n",
    "\tplt.show()\n",
    "\n",
    "def graph_usecs(d: dict, tests:list[str], **kwargs):\n",
    "\tgraph(d, tests, all_usecs, **kwargs)\n"
   ]
  },
  {
   "cell_type": "code",
   "execution_count": null,
   "id": "c447731b",
   "metadata": {},
   "outputs": [],
   "source": [
    "# Load all the measurements\n",
    "measurements_basic = load_measurements(\"./measurements/out1.csv\")"
   ]
  },
  {
   "cell_type": "code",
   "execution_count": null,
   "id": "9de27f60",
   "metadata": {},
   "outputs": [],
   "source": [
    "measurements_bigwarmup = load_measurements(\"./measurements/out2-big_warmup.csv\")"
   ]
  },
  {
   "cell_type": "code",
   "execution_count": null,
   "id": "4e968643",
   "metadata": {},
   "outputs": [],
   "source": [
    "measurements_backwards = load_measurements(\"./measurements/out3-backwards.csv\")"
   ]
  },
  {
   "cell_type": "code",
   "execution_count": null,
   "id": "63ccc898",
   "metadata": {},
   "outputs": [],
   "source": [
    "measurements_big = load_measurements(\"./measurements/out4-big60.csv\")"
   ]
  },
  {
   "cell_type": "code",
   "execution_count": null,
   "id": "77a42d65",
   "metadata": {},
   "outputs": [],
   "source": [
    "all_measurements = concat_measurements(concat_measurements(concat_measurements(measurements_basic, measurements_bigwarmup), measurements_backwards), measurements_big)"
   ]
  },
  {
   "cell_type": "markdown",
   "id": "1f3a374a",
   "metadata": {},
   "source": [
    "#### Aritmetika a přístupy k proměnným\n",
    "\n",
    "Podívejme se nyní na nejzákladnější operace - aritmetiku a přístupy k proměnným.   \n",
    "\n",
    "Pro všechny mikrobenchmarky z této sekce platí, že payload je 50-krát zopakovaná (copypaste) řádka s nějakou danou operací. _(Benchmarkujeme velmi rychlé elementární operace, chceme co nejvíce zredukovat overhead iterátoru. Z disassembleru zjistíme, že i pro takto nabobtnalé metody kód ani v nejdivočejším případě nepřekročí cca 6kB, měl by se tedy s přehledem vejít do 48kB datové L1 cache, kterou má testovací CPU)._     \n",
    "Žádný z benchmarků nealokuje paměť.    \n",
    "\n",
    "Podívejme se nyní blíže na operaci přístupu k proměnné. V následujících benchmarcích přičítáme k lokální proměnné hodnotu, která je specifikována jako literál/lokální/statická proměnná/property/funkce "
   ]
  },
  {
   "cell_type": "code",
   "execution_count": null,
   "id": "d13e34a2",
   "metadata": {},
   "outputs": [],
   "source": [
    "graph_usecs(all_measurements[ArithmeticBenchmarks], [\n",
    "\t\"AddLiteral\", \"AddLocal\", \"AddInstance\", \"AddStatic\", \"AddStaticProperty\", \"AddStaticMethod\", \"AddCallable\", \"AddInstanceMethod\", \"AddInstanceProperty\"\n",
    "], alpha=0.3)\n"
   ]
  },
  {
   "cell_type": "markdown",
   "id": "c9c27ab7",
   "metadata": {},
   "source": [
    "Vidíme, že přičítání literálu, lokální a instanční proměnné, jsou všechny zhruba stejně rychlé. Statická proměnná je několikrát pomalejší.   \n",
    "Volání metody či property getteru je nepřekvapivě ještě o další řád pomalejší, avšak v tomto případě vítězí zhruba o polovinu statické metody nad instančními.\n",
    "\n",
    "Tento rozdíl bych intuitivně vysvětlil tak, že instanční funkce musí pravděpodobně rozbíhat sofistikovanější mašinerii pro lookup napříč hierarchií dědičnosti, který nese overhead navíc i v optimistickém případě. S rozumnou pravděpodobností by zde mohl být prostor pro optimalizaci, avšak prozatím toto téma ponecháme.     \n",
    "\n",
    "Podívejme se nyní ještě detailněji pouze na přístupy k proměnným:"
   ]
  },
  {
   "cell_type": "code",
   "execution_count": null,
   "id": "a9b29514",
   "metadata": {},
   "outputs": [],
   "source": [
    "graph_usecs(all_measurements[ArithmeticBenchmarks], [\n",
    "\t\"AddLiteral\", \"AddLocal\", \"AddInstance\", \"AddStatic\"\n",
    "], alpha=0.3)\n"
   ]
  },
  {
   "cell_type": "markdown",
   "id": "b2407239",
   "metadata": {},
   "source": [
    "Ano, statická proměnná se skutečně zdá být citelně pomalejší. Mějme na paměti, že měření v sobě také zahrnují overhead operace sčítání a uložení do lokální proměnné, statická proměnná je tedy o dost více než 2-krát pomalejší než lokální/instanční.     "
   ]
  },
  {
   "cell_type": "markdown",
   "id": "d31a7f2a",
   "metadata": {},
   "source": [
    "Nyní když víme, že lokální proměnná, literál a instanční proměnná, jsou nejrychlejší, zaměřme se nyní na porovnání rychlosti různých aritmetických operací."
   ]
  },
  {
   "cell_type": "code",
   "execution_count": null,
   "id": "0c3513b3",
   "metadata": {},
   "outputs": [],
   "source": [
    "graph_usecs(all_measurements[ArithmeticBenchmarks], [\n",
    "\t\"AddLiteral\", \"MultiplyLiteral\", \"MultiplyFloatLiteral\",\n",
    "\t\"DivideFloatLiteral\", \"DivideLiteral\", \n",
    "\t#\"AddLocal_Vector2i\", \"AddLocal_Vector2f\", \"AddLocal_Vector3i\", \"AddLocal_Vector3f\", \"MultiplyLocal_Vector4f\"\n",
    "], alpha=0.3)\n"
   ]
  },
  {
   "cell_type": "markdown",
   "id": "97132ea6",
   "metadata": {},
   "source": [
    "Mezi sčítáním a násobení intů i floatů je dostatečně malý rozdíl, aby se s přehledem schoval do overheadu interpreteru. Dělení je dostatečně drahá operace, aby již byla měřitelně (pořád v praxi zanedbatelně) pomalejší.    \n",
    "Přibližme pouze na sčítání/násobení:   "
   ]
  },
  {
   "cell_type": "code",
   "execution_count": null,
   "id": "ba27cb7f",
   "metadata": {},
   "outputs": [],
   "source": [
    "graph_usecs(all_measurements[ArithmeticBenchmarks], [\n",
    "\t\"AddLiteral\", \"MultiplyLiteral\", \"MultiplyFloatLiteral\",\n",
    "], alpha=0.3)\n"
   ]
  },
  {
   "cell_type": "markdown",
   "id": "4d8e675b",
   "metadata": {},
   "source": [
    "V herní logice často pracujeme s 2 či 3-rozměrnými vektory. Jsou jejich operace natolik rychlé, aby dohromady s overheadem interpreteru byly srovnatelně rychlé jako skalární aritmetika?"
   ]
  },
  {
   "cell_type": "code",
   "execution_count": null,
   "id": "e4134332",
   "metadata": {},
   "outputs": [],
   "source": [
    "graph_usecs(all_measurements[ArithmeticBenchmarks], [\n",
    "\t\"AddLiteral\",\n",
    "\t\"AddLocal_Vector2i\", \"AddLocal_Vector2f\", \"AddLocal_Vector3i\", \"AddLocal_Vector3f\", \"MultiplyLocal_Vector4f\"\n",
    "], alpha=0.3)\n"
   ]
  },
  {
   "cell_type": "markdown",
   "id": "e30dca46",
   "metadata": {},
   "source": [
    "Vektorové operace jsou pomalejší než skalární jen velmi zanedbatelnou mírou. Je zajímavé, že 2D vektory jsou pomalejší než 3D/4D, možná se u větších vektorů používá SIMD instrukce zatímco 2D je ponechán s dvěmi skalárními (to by vysvětlilo téměř nulový rozdíl mezi 3D a 4D vektorem), v každém případě rozdíl není natolik značný, aby lákal k průzkumu.   \n",
    "Je třeba nést na paměti, že vektory standardně nesou 32-bitové floaty (možné změnit flagem při kompilaci enginu), kdežto skalární float je vždy 64-bitový.    "
   ]
  },
  {
   "cell_type": "markdown",
   "id": "38804e97",
   "metadata": {},
   "source": [
    "Podívejme se nyní na složitější skalární funkce. "
   ]
  },
  {
   "cell_type": "code",
   "execution_count": null,
   "id": "de9b3e9c",
   "metadata": {},
   "outputs": [],
   "source": [
    "graph_usecs(all_measurements[ArithmeticBenchmarks], [\n",
    "\t\"AddLiteral\", \"SqrtLocal\", \"DivideIntByFloatLiteral\",\n",
    "\t\"SinLocal\", \"TanLocal\", \"ATanLocal\", \"FmodLocal\", \"ATan2Local\", (\"PowLocal\", \"0.5\")\n",
    "], alpha=0.3)\n"
   ]
  },
  {
   "cell_type": "markdown",
   "id": "68542b0a",
   "metadata": {},
   "source": [
    "Vidíme, že většina funkcí je nanejvýš dvakrát pomalejší než sčítání. Vydělení intu floatem a uložení do intu, je zhruba stejně pomalé jako spočítání atan z floatu a uložení do floatu.  \n",
    "Sqrt je o tolik zanedbatelně pomalejší, že operace nad druhou mocninou délky místo reálné délky vektoru programátor v GDScriptu dělá spíše ze zvyku, než že by tím měl jakýkoliv reálný vliv na výkon. Pow a Atan2 jsou o trochu pomalejší, ale stále by z jejich použití programátor neměl mít výčitky.       \n",
    "Samozřejmě tyto závěry, vyvozené z jednoho konkrétního stroje není záhodno brát příliš vážně. Jiná CPU mohou mít matematické instrukce o tolik pomalejší, že tu bude patrný značnější rozdíl.     "
   ]
  },
  {
   "cell_type": "markdown",
   "id": "d63c4ecd",
   "metadata": {},
   "source": [
    "##### Constant folding\n",
    "\n",
    "Nyní se zaměřme na optimalizace, které kompilátor nad kódem provádí - jmenovitě constant folding.   \n",
    "\n",
    "První z benchmarků nese payload `ret += 42`, druhý `ret += 21 + 9 + 7 + 5 * 1` (kde `var ret: int = 1`)\n"
   ]
  },
  {
   "cell_type": "code",
   "execution_count": null,
   "id": "b1cd4d3e",
   "metadata": {},
   "outputs": [],
   "source": [
    "graph_usecs(all_measurements[ArithmeticBenchmarks], [\n",
    "\t\"AddLiteral\", \"AddMultipleLiterals\"\n",
    "], alpha=0.3)"
   ]
  },
  {
   "cell_type": "markdown",
   "id": "feffcb06",
   "metadata": {},
   "source": [
    "Zde máme payloady `ret *= 17.0` a `ret *= (1.0/0.0588)` (opět `var ret: float = 1.0`)"
   ]
  },
  {
   "cell_type": "code",
   "execution_count": null,
   "id": "03cf65d6",
   "metadata": {},
   "outputs": [],
   "source": [
    "graph_usecs(all_measurements[ArithmeticBenchmarks], [\n",
    "\t\"MultiplyFloatLiteral\", \"MultiplyFloatMultiLiteral\"\n",
    "], alpha=0.3)"
   ]
  },
  {
   "cell_type": "markdown",
   "id": "c6d8cde5",
   "metadata": {},
   "source": [
    "Výsledky jsou pro obě varianty srovnatelné, ke constant foldingu tedy zajisté dochází, alespoň pro základní aritmetické operace.    \n",
    "\n",
    "Postavme nyní proti sobě varianty, kde payload je pouze `pass` (prázdný příkaz), součet intových literálů, stringový literál a konkatenace více stringových literálů - ve všech případech dostaneme zhruba stejný čas běhu. Konstanty tedy s největší pravděpodobností byly zahozeny.   "
   ]
  },
  {
   "cell_type": "code",
   "execution_count": null,
   "id": "1f3cac3f",
   "metadata": {},
   "outputs": [],
   "source": [
    "graph_usecs(all_measurements[ArithmeticBenchmarks], [\"DoNothing\", \"DoNothingLiteralIntSums\", \"DoNothingLiteralString\", \"DoNothingLiteralStringSums\"], alpha=0.4)"
   ]
  },
  {
   "cell_type": "markdown",
   "id": "0d8f1969",
   "metadata": {},
   "source": [
    "Domněnku můžeme potvrdit nahlédnutím do disassembleru, ten pro všechny funkce vypadá shodně:\n",
    "```asm\n",
    " 0: _\n",
    " 2: call method-bind validated (return) stack(9) = const(object(Time)).get_ticks_usec()\n",
    " 8: assign stack(5) = stack(9)\n",
    " 11: _\n",
    " 13: assign stack(8) = stack(3)\n",
    " 16: for-init (typed INT) stack(6) in stack(8) counter stack(7) end 130\n",
    " 21: jump 28\n",
    " 23: for-loop (typed INT) stack(6) in stack(8) counter stack(7) end 130\n",
    " 28: _\n",
    " 30: _\n",
    " 32: _\n",
    " 34: _\n",
    " ...\n",
    " 126: _\n",
    " 128: jump 23\n",
    " 130: _\n",
    " 132: call method-bind validated (return) stack(10) = const(object(Time)).get_ticks_usec()\n",
    " 138: validated operator stack(9) = stack(10) - stack(5)\n",
    " 143: return stack(9)\n",
    " 145: == END ==\n",
    "\n",
    "```"
   ]
  },
  {
   "cell_type": "markdown",
   "id": "4d034486",
   "metadata": {},
   "source": []
  }
 ],
 "metadata": {
  "kernelspec": {
   "display_name": "Python 3",
   "language": "python",
   "name": "python3"
  },
  "language_info": {
   "codemirror_mode": {
    "name": "ipython",
    "version": 3
   },
   "file_extension": ".py",
   "mimetype": "text/x-python",
   "name": "python",
   "nbconvert_exporter": "python",
   "pygments_lexer": "ipython3",
   "version": "3.13.7"
  }
 },
 "nbformat": 4,
 "nbformat_minor": 5
}
